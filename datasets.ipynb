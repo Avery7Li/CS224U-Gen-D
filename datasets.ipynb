{
 "cells": [
  {
   "cell_type": "code",
   "execution_count": 1,
   "metadata": {},
   "outputs": [],
   "source": [
    "import pandas as pd\n"
   ]
  },
  {
   "cell_type": "code",
   "execution_count": 3,
   "metadata": {},
   "outputs": [],
   "source": [
    "gold_fname = \"data/gold_BUG.csv\"\n",
    "full_name = \"data/full_BUG.csv\"\n",
    "balanced_fname = \"data/balanced_BUG.csv\"\n",
    "\n",
    "gold_df = pd.read_csv(gold_fname, index_col=0)\n",
    "gold_df = gold_df[gold_df[\"num_of_pronouns\"] == 1]\n",
    "\n",
    "balanced_df = pd.read_csv(balanced_fname, index_col=0)\n",
    "balanced_df = balanced_df[balanced_df[\"num_of_pronouns\"] == 1]\n",
    "\n",
    "balanced_anti_df = balanced_df[balanced_df[\"stereotype\"] == -1].reset_index()\n",
    "balanced_neutral_df = balanced_df[balanced_df[\"stereotype\"] == 0].reset_index()\n",
    "balanced_s_df = balanced_df[balanced_df[\"stereotype\"] == 1].reset_index()\n",
    "\n",
    "gold_anti_df = gold_df[gold_df[\"stereotype\"] == -1].reset_index()\n",
    "gold_neutral_df = gold_df[gold_df[\"stereotype\"] == 0].reset_index()\n",
    "gold_s_df = gold_df[gold_df[\"stereotype\"] == 1].reset_index()"
   ]
  },
  {
   "cell_type": "code",
   "execution_count": 11,
   "metadata": {},
   "outputs": [
    {
     "name": "stdout",
     "output_type": "stream",
     "text": [
      "Number of intersection: 0\n"
     ]
    }
   ],
   "source": [
    "def intersection(df1, df2, colname):\n",
    "    lst1 = df1[colname].tolist()\n",
    "    lst2 = df2[colname].tolist()\n",
    "    intersection = set(lst1).intersection(set(lst2))\n",
    "    print(\"Number of intersection:\", len(intersection))\n",
    "    return intersection\n",
    "s_intersection = intersection(gold_s_df, balanced_s_df, \"sentence_text\")\n",
    "# Filter out stereotypical sentences in the balanced df that are also in the gold dataset\n",
    "balanced_s_df_filtered = balanced_s_df[~balanced_s_df[\"sentence_text\"].isin(s_intersection)]\n",
    "print(len(balanced_s_df_filtered))\n",
    "balanced_s_df_filtered.to_csv(\"data/filtered_s_balanced_BUG.csv\")"
   ]
  },
  {
   "cell_type": "code",
   "execution_count": 14,
   "metadata": {},
   "outputs": [
    {
     "name": "stdout",
     "output_type": "stream",
     "text": [
      "Number of intersection: 129\n",
      "6821 7001\n"
     ]
    }
   ],
   "source": [
    "all_intersection = intersection(gold_df, balanced_df, \"sentence_text\")\n",
    "filtered_balanced_df = balanced_df[~balanced_df[\"sentence_text\"].isin(all_intersection)]\n",
    "filtered_balanced_anti_df = filtered_balanced_df[filtered_balanced_df[\"stereotype\"] == -1].reset_index()\n",
    "filtered_balanced_s_df = filtered_balanced_df[filtered_balanced_df[\"stereotype\"] == 1].reset_index()\n",
    "print(len(filtered_balanced_anti_df), len(filtered_balanced_s_df))\n",
    "filtered_balanced_df.to_csv(\"data/filtered_balanced_BUG.csv\")"
   ]
  }
 ],
 "metadata": {
  "kernelspec": {
   "display_name": "base",
   "language": "python",
   "name": "python3"
  },
  "language_info": {
   "codemirror_mode": {
    "name": "ipython",
    "version": 3
   },
   "file_extension": ".py",
   "mimetype": "text/x-python",
   "name": "python",
   "nbconvert_exporter": "python",
   "pygments_lexer": "ipython3",
   "version": "3.9.13"
  },
  "orig_nbformat": 4
 },
 "nbformat": 4,
 "nbformat_minor": 2
}
